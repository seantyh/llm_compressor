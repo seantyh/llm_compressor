{
 "cells": [
  {
   "cell_type": "code",
   "execution_count": 1,
   "metadata": {},
   "outputs": [],
   "source": [
    "%load_ext autoreload\n",
    "%autoreload 2"
   ]
  },
  {
   "cell_type": "code",
   "execution_count": 2,
   "metadata": {},
   "outputs": [],
   "source": [
    "import sys\n",
    "if '../src' not in sys.path:\n",
    "  sys.path.append('../src')\n",
    "import os\n",
    "os.environ[\"BNB_CUDA_VERSION\"] = \"115\"\n",
    "import numpy as np\n",
    "from llm_compressor import AECompressorLLM\n",
    "from transformers import AutoTokenizer, AutoModelForCausalLM"
   ]
  },
  {
   "cell_type": "code",
   "execution_count": 3,
   "metadata": {},
   "outputs": [],
   "source": [
    "from pathlib import Path\n",
    "import pickle\n",
    "error0 = pickle.load(open('error_inst.pkl', 'rb'))\n",
    "error2 = pickle.load(open(\"error_inst-2.pkl\", \"rb\"))"
   ]
  },
  {
   "cell_type": "code",
   "execution_count": 5,
   "metadata": {},
   "outputs": [
    {
     "name": "stdout",
     "output_type": "stream",
     "text": [
      "message length: 621 bits\n",
      "data length: 688 bits\n",
      "compress ratio: 0.9026\n"
     ]
    }
   ],
   "source": [
    "dbg = {}\n",
    "error_inst = error0\n",
    "data_ids = error_inst[\"data_ids\"]\n",
    "next_token_probs = error_inst[\"probs\"]\n",
    "compressor = AECompressorLLM()\n",
    "\n",
    "msg = compressor.compress(data_ids, next_token_probs)\n",
    "recon = compressor.decompress(msg, len(data_ids), next_token_probs)\n",
    "## uniform probs baseline\n",
    "# msg = compressor.compress(data_ids, uniform_nt_probs)\n",
    "# recon = compressor.decompress(msg, len(data_ids), uniform_nt_probs)\n",
    "\n",
    "assert all(a==b for a, b in zip(recon, data_ids))\n",
    "msg_len = len(msg)\n",
    "data_len = len(data_ids) * 16\n",
    "print(f\"message length: {msg_len} bits\")\n",
    "print(f\"data length: {data_len} bits\")\n",
    "print(f\"compress ratio: {msg_len/data_len:.4f}\")\n"
   ]
  },
  {
   "cell_type": "code",
   "execution_count": 30,
   "metadata": {},
   "outputs": [],
   "source": [
    "freqs = compressor.model.dbg[\"freqs\"]"
   ]
  },
  {
   "cell_type": "code",
   "execution_count": 37,
   "metadata": {},
   "outputs": [
    {
     "data": {
      "text/plain": [
       "array([        79,       2752,       2792, ..., 4453108732, 4453110030,\n",
       "       4453111571])"
      ]
     },
     "execution_count": 37,
     "metadata": {},
     "output_type": "execute_result"
    }
   ],
   "source": [
    "np.cumsum(freqs.astype(np.int64))"
   ]
  },
  {
   "cell_type": "code",
   "execution_count": null,
   "metadata": {},
   "outputs": [],
   "source": []
  },
  {
   "cell_type": "code",
   "execution_count": null,
   "metadata": {},
   "outputs": [],
   "source": []
  },
  {
   "cell_type": "code",
   "execution_count": 16,
   "metadata": {},
   "outputs": [
    {
     "data": {
      "text/plain": [
       "array([1, 3, 6])"
      ]
     },
     "execution_count": 16,
     "metadata": {},
     "output_type": "execute_result"
    }
   ],
   "source": [
    "np.cumsum([1,2,3])"
   ]
  },
  {
   "cell_type": "code",
   "execution_count": 26,
   "metadata": {},
   "outputs": [
    {
     "data": {
      "text/plain": [
       "([5978989, 5979053), 9985536, 4294967296)"
      ]
     },
     "execution_count": 26,
     "metadata": {},
     "output_type": "execute_result"
    }
   ],
   "source": [
    "# newlow = low + symlow * range // total\n",
    "# newhigh = low + symhigh * range // total - 1\n",
    "\n",
    "dbg = compressor.encoder.dbg\n",
    "prob = dbg[\"prob\"]\n",
    "sym = dbg[\"symbol\"]\n",
    "total = dbg[\"total\"]\n",
    "r = dbg[\"range\"]\n",
    "prob[sym], total, r"
   ]
  },
  {
   "cell_type": "code",
   "execution_count": 24,
   "metadata": {},
   "outputs": [
    {
     "data": {
      "text/plain": [
       "0.971749506140457"
      ]
     },
     "execution_count": 24,
     "metadata": {},
     "output_type": "execute_result"
    }
   ],
   "source": [
    "1 / total"
   ]
  },
  {
   "cell_type": "code",
   "execution_count": 8,
   "metadata": {},
   "outputs": [],
   "source": [
    "import zlib\n",
    "zmsg = zlib.compress(test_text.encode())"
   ]
  },
  {
   "cell_type": "code",
   "execution_count": 9,
   "metadata": {},
   "outputs": [
    {
     "data": {
      "text/plain": [
       "1.2758620689655173"
      ]
     },
     "execution_count": 9,
     "metadata": {},
     "output_type": "execute_result"
    }
   ],
   "source": [
    "len(zmsg)/len(test_text.encode())"
   ]
  },
  {
   "cell_type": "markdown",
   "metadata": {},
   "source": [
    "## Appendix"
   ]
  },
  {
   "cell_type": "code",
   "execution_count": 10,
   "metadata": {},
   "outputs": [],
   "source": [
    "## clear float2repr implmentation by Copilot\n",
    "import struct\n",
    "\n",
    "def float_repr(num):\n",
    "    # pack the float into a bytes object\n",
    "    packed = struct.pack('f', num)\n",
    "    \n",
    "    # unpack the bytes object to get the exponent and fractional part\n",
    "    bits = struct.unpack('I', packed)[0]    \n",
    "    sign = bits >> 31\n",
    "    exp = (bits >> 23) & 0xff\n",
    "    frac = bits & 0x7fffff\n",
    "    \n",
    "    # convert the exponent to a signed integer\n",
    "    if exp == 0:\n",
    "        exp = -126\n",
    "    else:\n",
    "        exp -= 127\n",
    "    \n",
    "    # convert the fractional part to a float\n",
    "    frac = float(frac) / (1 << 23)\n",
    "    \n",
    "    # apply the sign, exponent, and fractional part to get the final representation\n",
    "    print(\"sign: \", sign)\n",
    "    print(\"exp: \", exp)\n",
    "    print(\"frac: \", frac)\n",
    "    assert (-1)**sign * (1 + frac) * 2**exp == num\n"
   ]
  }
 ],
 "metadata": {
  "kernelspec": {
   "display_name": "cuda",
   "language": "python",
   "name": "python3"
  },
  "language_info": {
   "codemirror_mode": {
    "name": "ipython",
    "version": 3
   },
   "file_extension": ".py",
   "mimetype": "text/x-python",
   "name": "python",
   "nbconvert_exporter": "python",
   "pygments_lexer": "ipython3",
   "version": "3.9.5"
  },
  "orig_nbformat": 4
 },
 "nbformat": 4,
 "nbformat_minor": 2
}
