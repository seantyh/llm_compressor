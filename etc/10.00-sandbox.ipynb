{
 "cells": [
  {
   "cell_type": "code",
   "execution_count": 1,
   "metadata": {},
   "outputs": [],
   "source": [
    "%load_ext autoreload\n",
    "%autoreload 2"
   ]
  },
  {
   "cell_type": "code",
   "execution_count": 2,
   "metadata": {},
   "outputs": [],
   "source": [
    "import sys\n",
    "if '..' not in sys.path:\n",
    "  sys.path.append('..')\n",
    "\n",
    "import numpy as np\n",
    "from llm_compressor import AECompressorLLM"
   ]
  },
  {
   "cell_type": "code",
   "execution_count": 3,
   "metadata": {},
   "outputs": [],
   "source": [
    "from transformers import AutoTokenizer, AutoModelForCausalLM"
   ]
  },
  {
   "cell_type": "code",
   "execution_count": 4,
   "metadata": {},
   "outputs": [],
   "source": [
    "tokenizer = AutoTokenizer.from_pretrained(\"ckiplab/gpt2-base-chinese\")\n",
    "tokenizer.pad_token_id = tokenizer.eos_token_id\n",
    "model = AutoModelForCausalLM.from_pretrained(\"ckiplab/gpt2-base-chinese\")"
   ]
  },
  {
   "cell_type": "code",
   "execution_count": 5,
   "metadata": {},
   "outputs": [
    {
     "name": "stderr",
     "output_type": "stream",
     "text": [
      "The attention mask and the pad token id were not set. As a consequence, you may observe unexpected behavior. Please pass your input's `attention_mask` to obtain reliable results.\n",
      "Setting `pad_token_id` to `eos_token_id`:102 for open-end generation.\n"
     ]
    },
    {
     "data": {
      "text/plain": [
       "'[CLS] 這 是 一 個 很 好 的 例 子 。 」 他 說 : 「 我 們 不 能 說, 我'"
      ]
     },
     "execution_count": 5,
     "metadata": {},
     "output_type": "execute_result"
    }
   ],
   "source": [
    "test_text = \"這是一個測試\"\n",
    "prompt_ids = tokenizer(\"這是\", return_tensors=\"pt\").input_ids[:, :-1]\n",
    "gentext = tokenizer.batch_decode(\n",
    "            model.generate(input_ids=prompt_ids, \n",
    "            max_new_tokens=20, pad_token_id=tokenizer.eos_token_id))[0]\n",
    "gentext"
   ]
  },
  {
   "cell_type": "code",
   "execution_count": 6,
   "metadata": {},
   "outputs": [],
   "source": [
    "import torch\n",
    "input_ids = tokenizer(test_text, return_tensors=\"pt\").input_ids\n",
    "with torch.no_grad():\n",
    "  logits = model(input_ids).logits.squeeze()\n",
    "probs = torch.softmax(logits, dim=1)\n",
    "uniform_prob = torch.ones(probs.shape[1]) / probs.shape[1]\n",
    "next_token_probs = torch.concat([uniform_prob.unsqueeze(0), probs[:-1, :]], dim=0)\n",
    "                               "
   ]
  },
  {
   "cell_type": "code",
   "execution_count": 7,
   "metadata": {},
   "outputs": [
    {
     "name": "stdout",
     "output_type": "stream",
     "text": [
      "message length: 83 bits\n",
      "data length: 128 bits\n",
      "compress ratio: 0.6484\n"
     ]
    }
   ],
   "source": [
    "compressor = AECompressorLLM()\n",
    "data_ids = input_ids.squeeze().tolist()\n",
    "\n",
    "msg = compressor.compress(data_ids, next_token_probs)\n",
    "recon = compressor.decompress(msg, len(data_ids), next_token_probs)\n",
    "assert all(a==b for a, b in zip(recon, data_ids))\n",
    "msg_len = len(msg)\n",
    "data_len = len(data_ids) * 16\n",
    "print(f\"message length: {msg_len} bits\")\n",
    "print(f\"data length: {data_len} bits\")\n",
    "print(f\"compress ratio: {msg_len/data_len:.4f}\")\n"
   ]
  },
  {
   "cell_type": "code",
   "execution_count": 13,
   "metadata": {},
   "outputs": [],
   "source": [
    "import zlib\n",
    "zmsg = zlib.compress(gentext.encode())"
   ]
  },
  {
   "cell_type": "code",
   "execution_count": 14,
   "metadata": {},
   "outputs": [
    {
     "data": {
      "text/plain": [
       "600"
      ]
     },
     "execution_count": 14,
     "metadata": {},
     "output_type": "execute_result"
    }
   ],
   "source": [
    "len(gentext.encode())*8"
   ]
  },
  {
   "cell_type": "code",
   "execution_count": 92,
   "metadata": {},
   "outputs": [
    {
     "data": {
      "text/plain": [
       "0.5277777777777778"
      ]
     },
     "execution_count": 92,
     "metadata": {},
     "output_type": "execute_result"
    }
   ],
   "source": [
    "len(zmsg)/len(gentext.encode())"
   ]
  },
  {
   "cell_type": "code",
   "execution_count": 19,
   "metadata": {},
   "outputs": [
    {
     "data": {
      "text/plain": [
       "[15496, 11, 616, 3290, 318, 13779]"
      ]
     },
     "execution_count": 19,
     "metadata": {},
     "output_type": "execute_result"
    }
   ],
   "source": [
    "data_ids"
   ]
  },
  {
   "cell_type": "code",
   "execution_count": 23,
   "metadata": {},
   "outputs": [
    {
     "data": {
      "text/plain": [
       "96"
      ]
     },
     "execution_count": 23,
     "metadata": {},
     "output_type": "execute_result"
    }
   ],
   "source": [
    "16*len(data_ids)"
   ]
  },
  {
   "cell_type": "markdown",
   "metadata": {},
   "source": [
    "## Appendix"
   ]
  },
  {
   "cell_type": "code",
   "execution_count": null,
   "metadata": {},
   "outputs": [],
   "source": [
    "## clear float2repr implmentation by Copilot\n",
    "import struct\n",
    "\n",
    "def float_repr(num):\n",
    "    # pack the float into a bytes object\n",
    "    packed = struct.pack('f', num)\n",
    "    \n",
    "    # unpack the bytes object to get the exponent and fractional part\n",
    "    bits = struct.unpack('I', packed)[0]    \n",
    "    sign = bits >> 31\n",
    "    exp = (bits >> 23) & 0xff\n",
    "    frac = bits & 0x7fffff\n",
    "    \n",
    "    # convert the exponent to a signed integer\n",
    "    if exp == 0:\n",
    "        exp = -126\n",
    "    else:\n",
    "        exp -= 127\n",
    "    \n",
    "    # convert the fractional part to a float\n",
    "    frac = float(frac) / (1 << 23)\n",
    "    \n",
    "    # apply the sign, exponent, and fractional part to get the final representation\n",
    "    print(\"sign: \", sign)\n",
    "    print(\"exp: \", exp)\n",
    "    print(\"frac: \", frac)\n",
    "    assert (-1)**sign * (1 + frac) * 2**exp == num\n"
   ]
  }
 ],
 "metadata": {
  "kernelspec": {
   "display_name": "cuda",
   "language": "python",
   "name": "python3"
  },
  "language_info": {
   "codemirror_mode": {
    "name": "ipython",
    "version": 3
   },
   "file_extension": ".py",
   "mimetype": "text/x-python",
   "name": "python",
   "nbconvert_exporter": "python",
   "pygments_lexer": "ipython3",
   "version": "3.11.3"
  },
  "orig_nbformat": 4
 },
 "nbformat": 4,
 "nbformat_minor": 2
}
